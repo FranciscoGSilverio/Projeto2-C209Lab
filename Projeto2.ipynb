{
 "cells": [
  {
   "cell_type": "code",
   "execution_count": 1,
   "metadata": {},
   "outputs": [],
   "source": [
    "import moviepy.editor as mpe\n",
    "import numpy as np\n",
    "\n",
    "video = mpe.VideoFileClip(\"VideoLeitura.mp4\")"
   ]
  },
  {
   "cell_type": "code",
   "execution_count": 2,
   "metadata": {},
   "outputs": [],
   "source": [
    "def invert_axis(get_frame, t):\n",
    "    frame = get_frame(t)\n",
    "    if (int(t) // 20) % 2 == 1:\n",
    "        return frame[:, ::-1]\n",
    "    return frame\n",
    "\n",
    "video_with_inversion = video.fl(invert_axis)\n"
   ]
  },
  {
   "cell_type": "code",
   "execution_count": 3,
   "metadata": {},
   "outputs": [],
   "source": [
    "cut_start = 60\n",
    "cut_end = 80\n",
    "\n",
    "first = video_with_inversion.subclip(0, cut_start)\n",
    "middle = video_with_inversion.subclip(cut_start, cut_end)\n",
    "end = video_with_inversion.subclip(cut_end, video.duration)\n",
    "\n",
    "video_with_inversion = mpe.concatenate_videoclips([first, end, middle])"
   ]
  },
  {
   "cell_type": "code",
   "execution_count": 4,
   "metadata": {},
   "outputs": [],
   "source": [
    "audio = video_with_inversion.audio\n",
    "def decrease_volume(get_frame, t):\n",
    "    frame = get_frame(t)\n",
    "    if isinstance(t, (int, float)):\n",
    "        if t >= (video_with_inversion.duration - 10):\n",
    "            _fade = 0\n",
    "        else:\n",
    "            _fade = max(0, 1 - (t // 30) * 0.1)\n",
    "    else:\n",
    "        _fade = 1 - (t // 30) * 0.2\n",
    "        _fade = np.clip(_fade, 0, 1)\n",
    "\n",
    "    if len(frame.shape) > 1:\n",
    "        _fade = _fade[:, np.newaxis]\n",
    "    \n",
    "    return frame * _fade\n",
    "\n",
    "def mute(get_frame, t):\n",
    "    frame = get_frame(t)\n",
    "    if isinstance(t, (int, float)) and t >= (video_with_inversion.duration - 10):\n",
    "        return frame * 0\n",
    "    elif isinstance(t, np.ndarray):\n",
    "        mute_factor = np.where(t >= (video_with_inversion.duration - 10), 0, 1)\n",
    "        if len(frame.shape) > 1:\n",
    "            mute_factor = mute_factor[:, np.newaxis]\n",
    "        return frame * mute_factor\n",
    "    return frame\n",
    "\n",
    "adjusted_audio = audio.fl(decrease_volume).fl(mute)\n",
    "video_with_inversion = video_with_inversion.set_audio(adjusted_audio)"
   ]
  },
  {
   "cell_type": "code",
   "execution_count": 5,
   "metadata": {},
   "outputs": [
    {
     "name": "stdout",
     "output_type": "stream",
     "text": [
      "Moviepy - Building video __temp__.mp4.\n",
      "MoviePy - Writing audio in __temp__TEMP_MPY_wvf_snd.mp3\n"
     ]
    },
    {
     "name": "stderr",
     "output_type": "stream",
     "text": [
      "chunk:   0%|          | 0/2956 [00:00<?, ?it/s, now=None]"
     ]
    },
    {
     "name": "stderr",
     "output_type": "stream",
     "text": [
      "                                                                      \r"
     ]
    },
    {
     "name": "stdout",
     "output_type": "stream",
     "text": [
      "MoviePy - Done.\n",
      "Moviepy - Writing video __temp__.mp4\n",
      "\n"
     ]
    },
    {
     "name": "stderr",
     "output_type": "stream",
     "text": [
      "                                                                 \r"
     ]
    },
    {
     "name": "stdout",
     "output_type": "stream",
     "text": [
      "Moviepy - Done !\n",
      "Moviepy - video ready __temp__.mp4\n",
      "Moviepy - Building video Resultado.mp4.\n",
      "MoviePy - Writing audio in ResultadoTEMP_MPY_wvf_snd.mp4\n"
     ]
    },
    {
     "name": "stderr",
     "output_type": "stream",
     "text": [
      "                                                                      \r"
     ]
    },
    {
     "name": "stdout",
     "output_type": "stream",
     "text": [
      "MoviePy - Done.\n",
      "Moviepy - Writing video Resultado.mp4\n",
      "\n"
     ]
    },
    {
     "name": "stderr",
     "output_type": "stream",
     "text": [
      "                                                                 \r"
     ]
    },
    {
     "name": "stdout",
     "output_type": "stream",
     "text": [
      "Moviepy - Done !\n",
      "Moviepy - video ready Resultado.mp4\n"
     ]
    }
   ],
   "source": [
    "video_with_inversion.ipython_display(width=480, maxduration=140)\n",
    "#save the video\n",
    "video_with_inversion.write_videofile(\"Resultado.mp4\", codec=\"libx264\", audio_codec=\"aac\")"
   ]
  }
 ],
 "metadata": {
  "kernelspec": {
   "display_name": "myenv",
   "language": "python",
   "name": "python3"
  },
  "language_info": {
   "codemirror_mode": {
    "name": "ipython",
    "version": 3
   },
   "file_extension": ".py",
   "mimetype": "text/x-python",
   "name": "python",
   "nbconvert_exporter": "python",
   "pygments_lexer": "ipython3",
   "version": "3.10.12"
  }
 },
 "nbformat": 4,
 "nbformat_minor": 2
}
